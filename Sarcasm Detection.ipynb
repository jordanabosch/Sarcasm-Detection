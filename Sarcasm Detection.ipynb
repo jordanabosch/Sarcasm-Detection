{
 "cells": [
  {
   "cell_type": "markdown",
   "metadata": {},
   "source": [
    "# Sarcasm Detectection: Is that Headline Satirical?"
   ]
  },
  {
   "cell_type": "code",
   "execution_count": 1,
   "metadata": {},
   "outputs": [],
   "source": [
    "import pandas as pd\n",
    "import matplotlib.pyplot as plt\n",
    "import seaborn as sns\n",
    "sns.set_style('white')\n",
    "%matplotlib inline\n",
    "\n",
    "pd.set_option('display.max_colwidth', -1)"
   ]
  },
  {
   "cell_type": "markdown",
   "metadata": {},
   "source": [
    "### Reading in the dataset, which comes from [Rishabh Misra](https://www.kaggle.com/rmisra/news-headlines-dataset-for-sarcasm-detection). It consists of more than 28,000 headlines, all from either Huffington Post or The Onion."
   ]
  },
  {
   "cell_type": "code",
   "execution_count": 2,
   "metadata": {},
   "outputs": [
    {
     "data": {
      "text/html": [
       "<div>\n",
       "<style scoped>\n",
       "    .dataframe tbody tr th:only-of-type {\n",
       "        vertical-align: middle;\n",
       "    }\n",
       "\n",
       "    .dataframe tbody tr th {\n",
       "        vertical-align: top;\n",
       "    }\n",
       "\n",
       "    .dataframe thead th {\n",
       "        text-align: right;\n",
       "    }\n",
       "</style>\n",
       "<table border=\"1\" class=\"dataframe\">\n",
       "  <thead>\n",
       "    <tr style=\"text-align: right;\">\n",
       "      <th></th>\n",
       "      <th>article_link</th>\n",
       "      <th>is_sarcastic</th>\n",
       "      <th>headline</th>\n",
       "    </tr>\n",
       "  </thead>\n",
       "  <tbody>\n",
       "    <tr>\n",
       "      <td>0</td>\n",
       "      <td>https://www.theonion.com/thirtysomething-scientists-unveil-doomsday-clock-of-hai-1819586205</td>\n",
       "      <td>1</td>\n",
       "      <td>thirtysomething scientists unveil doomsday clock of hair loss</td>\n",
       "    </tr>\n",
       "    <tr>\n",
       "      <td>1</td>\n",
       "      <td>https://www.huffingtonpost.com/entry/donna-edwards-inequality_us_57455f7fe4b055bb1170b207</td>\n",
       "      <td>0</td>\n",
       "      <td>dem rep. totally nails why congress is falling short on gender, racial equality</td>\n",
       "    </tr>\n",
       "    <tr>\n",
       "      <td>2</td>\n",
       "      <td>https://www.huffingtonpost.com/entry/eat-your-veggies-9-delici_b_8899742.html</td>\n",
       "      <td>0</td>\n",
       "      <td>eat your veggies: 9 deliciously different recipes</td>\n",
       "    </tr>\n",
       "    <tr>\n",
       "      <td>3</td>\n",
       "      <td>https://local.theonion.com/inclement-weather-prevents-liar-from-getting-to-work-1819576031</td>\n",
       "      <td>1</td>\n",
       "      <td>inclement weather prevents liar from getting to work</td>\n",
       "    </tr>\n",
       "    <tr>\n",
       "      <td>4</td>\n",
       "      <td>https://www.theonion.com/mother-comes-pretty-close-to-using-word-streaming-cor-1819575546</td>\n",
       "      <td>1</td>\n",
       "      <td>mother comes pretty close to using word 'streaming' correctly</td>\n",
       "    </tr>\n",
       "    <tr>\n",
       "      <td>...</td>\n",
       "      <td>...</td>\n",
       "      <td>...</td>\n",
       "      <td>...</td>\n",
       "    </tr>\n",
       "    <tr>\n",
       "      <td>28614</td>\n",
       "      <td>https://www.theonion.com/jews-to-celebrate-rosh-hashasha-or-something-1819564013</td>\n",
       "      <td>1</td>\n",
       "      <td>jews to celebrate rosh hashasha or something</td>\n",
       "    </tr>\n",
       "    <tr>\n",
       "      <td>28615</td>\n",
       "      <td>https://local.theonion.com/internal-affairs-investigator-disappointed-conspiracy-d-1819568967</td>\n",
       "      <td>1</td>\n",
       "      <td>internal affairs investigator disappointed conspiracy doesn't go all the way to the top</td>\n",
       "    </tr>\n",
       "    <tr>\n",
       "      <td>28616</td>\n",
       "      <td>https://www.huffingtonpost.com/entry/andrew-ahn-independent-spirit-awards_us_58b44741e4b060480e0a2c30</td>\n",
       "      <td>0</td>\n",
       "      <td>the most beautiful acceptance speech this week came from a queer korean</td>\n",
       "    </tr>\n",
       "    <tr>\n",
       "      <td>28617</td>\n",
       "      <td>https://www.theonion.com/mars-probe-destroyed-by-orbiting-spielberg-gates-space-1819564363</td>\n",
       "      <td>1</td>\n",
       "      <td>mars probe destroyed by orbiting spielberg-gates space palace</td>\n",
       "    </tr>\n",
       "    <tr>\n",
       "      <td>28618</td>\n",
       "      <td>https://www.theonion.com/dad-clarifies-this-not-a-food-stop-1819576557</td>\n",
       "      <td>1</td>\n",
       "      <td>dad clarifies this not a food stop</td>\n",
       "    </tr>\n",
       "  </tbody>\n",
       "</table>\n",
       "<p>28619 rows × 3 columns</p>\n",
       "</div>"
      ],
      "text/plain": [
       "                                                                                                article_link  \\\n",
       "0      https://www.theonion.com/thirtysomething-scientists-unveil-doomsday-clock-of-hai-1819586205             \n",
       "1      https://www.huffingtonpost.com/entry/donna-edwards-inequality_us_57455f7fe4b055bb1170b207               \n",
       "2      https://www.huffingtonpost.com/entry/eat-your-veggies-9-delici_b_8899742.html                           \n",
       "3      https://local.theonion.com/inclement-weather-prevents-liar-from-getting-to-work-1819576031              \n",
       "4      https://www.theonion.com/mother-comes-pretty-close-to-using-word-streaming-cor-1819575546               \n",
       "...                                                                                          ...               \n",
       "28614  https://www.theonion.com/jews-to-celebrate-rosh-hashasha-or-something-1819564013                        \n",
       "28615  https://local.theonion.com/internal-affairs-investigator-disappointed-conspiracy-d-1819568967           \n",
       "28616  https://www.huffingtonpost.com/entry/andrew-ahn-independent-spirit-awards_us_58b44741e4b060480e0a2c30   \n",
       "28617  https://www.theonion.com/mars-probe-destroyed-by-orbiting-spielberg-gates-space-1819564363              \n",
       "28618  https://www.theonion.com/dad-clarifies-this-not-a-food-stop-1819576557                                  \n",
       "\n",
       "       is_sarcastic  \\\n",
       "0      1              \n",
       "1      0              \n",
       "2      0              \n",
       "3      1              \n",
       "4      1              \n",
       "...   ..              \n",
       "28614  1              \n",
       "28615  1              \n",
       "28616  0              \n",
       "28617  1              \n",
       "28618  1              \n",
       "\n",
       "                                                                                      headline  \n",
       "0      thirtysomething scientists unveil doomsday clock of hair loss                            \n",
       "1      dem rep. totally nails why congress is falling short on gender, racial equality          \n",
       "2      eat your veggies: 9 deliciously different recipes                                        \n",
       "3      inclement weather prevents liar from getting to work                                     \n",
       "4      mother comes pretty close to using word 'streaming' correctly                            \n",
       "...                                                              ...                            \n",
       "28614  jews to celebrate rosh hashasha or something                                             \n",
       "28615  internal affairs investigator disappointed conspiracy doesn't go all the way to the top  \n",
       "28616  the most beautiful acceptance speech this week came from a queer korean                  \n",
       "28617  mars probe destroyed by orbiting spielberg-gates space palace                            \n",
       "28618  dad clarifies this not a food stop                                                       \n",
       "\n",
       "[28619 rows x 3 columns]"
      ]
     },
     "execution_count": 2,
     "metadata": {},
     "output_type": "execute_result"
    }
   ],
   "source": [
    "df = pd.read_json(path_or_buf='Sarcasm_Headlines_Dataset_v2.json', lines=True)\n",
    "#changing the order of columns\n",
    "df = df[['article_link', 'is_sarcastic', 'headline']]\n",
    "df"
   ]
  },
  {
   "cell_type": "markdown",
   "metadata": {},
   "source": [
    "### Before we see if a model can predict sarcasm, let's see how well a human can. Can you guess whether the following headlines come from Huffington Post or The Onion?"
   ]
  },
  {
   "cell_type": "code",
   "execution_count": 3,
   "metadata": {},
   "outputs": [
    {
     "name": "stdout",
     "output_type": "stream",
     "text": [
      "33: leading probability researchers confounded by three coworkers wearing same shirt color on same day \n",
      "\n",
      "34: new york introduces shoe-sharing program for city's pedestrians \n",
      "\n",
      "35: beyoncé sculpted in cheese is strangely alluring \n",
      "\n",
      "36: expansive obama state of the union speech to touch on patent law, entomology, the films of robert altman \n",
      "\n",
      "37: stars with gray hair prove getting older isn't all that bad \n",
      "\n"
     ]
    }
   ],
   "source": [
    "for i in range(33,38):\n",
    "    print(\"{}: {}\".format(i, df.iloc[i,:].headline),\"\\n\")"
   ]
  },
  {
   "cell_type": "markdown",
   "metadata": {},
   "source": [
    "### Here are the answers. How did you do?"
   ]
  },
  {
   "cell_type": "code",
   "execution_count": 4,
   "metadata": {},
   "outputs": [
    {
     "name": "stdout",
     "output_type": "stream",
     "text": [
      "33 : Real news\n",
      "34 : Real news\n",
      "35 : Fake news!\n",
      "36 : Real news\n",
      "37 : Fake news!\n"
     ]
    }
   ],
   "source": [
    "for i in range(33,38):\n",
    "    if df.iloc[i,:].is_sarcastic:\n",
    "        print(i, \": Real news\")\n",
    "    else:\n",
    "        print(i, \": Fake news!\")"
   ]
  },
  {
   "cell_type": "markdown",
   "metadata": {},
   "source": [
    "#### No missing values. That's good."
   ]
  },
  {
   "cell_type": "code",
   "execution_count": 5,
   "metadata": {},
   "outputs": [
    {
     "name": "stdout",
     "output_type": "stream",
     "text": [
      "<class 'pandas.core.frame.DataFrame'>\n",
      "RangeIndex: 28619 entries, 0 to 28618\n",
      "Data columns (total 3 columns):\n",
      "article_link    28619 non-null object\n",
      "is_sarcastic    28619 non-null int64\n",
      "headline        28619 non-null object\n",
      "dtypes: int64(1), object(2)\n",
      "memory usage: 670.9+ KB\n"
     ]
    }
   ],
   "source": [
    "df.info()"
   ]
  },
  {
   "cell_type": "markdown",
   "metadata": {},
   "source": [
    "### 48% of articles in the dataset are sarcastic \n",
    "#### That means a model that guesses \"non-sarcastic\" every time will be about 52% accurate. "
   ]
  },
  {
   "cell_type": "code",
   "execution_count": 6,
   "metadata": {},
   "outputs": [
    {
     "data": {
      "text/html": [
       "<div>\n",
       "<style scoped>\n",
       "    .dataframe tbody tr th:only-of-type {\n",
       "        vertical-align: middle;\n",
       "    }\n",
       "\n",
       "    .dataframe tbody tr th {\n",
       "        vertical-align: top;\n",
       "    }\n",
       "\n",
       "    .dataframe thead th {\n",
       "        text-align: right;\n",
       "    }\n",
       "</style>\n",
       "<table border=\"1\" class=\"dataframe\">\n",
       "  <thead>\n",
       "    <tr style=\"text-align: right;\">\n",
       "      <th></th>\n",
       "      <th>is_sarcastic</th>\n",
       "    </tr>\n",
       "  </thead>\n",
       "  <tbody>\n",
       "    <tr>\n",
       "      <td>count</td>\n",
       "      <td>28619.000000</td>\n",
       "    </tr>\n",
       "    <tr>\n",
       "      <td>mean</td>\n",
       "      <td>0.476397</td>\n",
       "    </tr>\n",
       "    <tr>\n",
       "      <td>std</td>\n",
       "      <td>0.499451</td>\n",
       "    </tr>\n",
       "    <tr>\n",
       "      <td>min</td>\n",
       "      <td>0.000000</td>\n",
       "    </tr>\n",
       "    <tr>\n",
       "      <td>25%</td>\n",
       "      <td>0.000000</td>\n",
       "    </tr>\n",
       "    <tr>\n",
       "      <td>50%</td>\n",
       "      <td>0.000000</td>\n",
       "    </tr>\n",
       "    <tr>\n",
       "      <td>75%</td>\n",
       "      <td>1.000000</td>\n",
       "    </tr>\n",
       "    <tr>\n",
       "      <td>max</td>\n",
       "      <td>1.000000</td>\n",
       "    </tr>\n",
       "  </tbody>\n",
       "</table>\n",
       "</div>"
      ],
      "text/plain": [
       "       is_sarcastic\n",
       "count  28619.000000\n",
       "mean   0.476397    \n",
       "std    0.499451    \n",
       "min    0.000000    \n",
       "25%    0.000000    \n",
       "50%    0.000000    \n",
       "75%    1.000000    \n",
       "max    1.000000    "
      ]
     },
     "execution_count": 6,
     "metadata": {},
     "output_type": "execute_result"
    }
   ],
   "source": [
    "df.describe()"
   ]
  },
  {
   "cell_type": "code",
   "execution_count": 7,
   "metadata": {},
   "outputs": [
    {
     "data": {
      "image/png": "[encoded data removed]",
      "text/plain": [
       "<matplotlib.figure.Figure at 0x208ce1a7c88>"
      ]
     },
     "metadata": {
      "needs_background": "light"
     },
     "output_type": "display_data"
    }
   ],
   "source": [
    "def num_to_bool(num):\n",
    "    if num == 0:\n",
    "        return False\n",
    "    if num == 1:\n",
    "        return True\n",
    "\n",
    "counts = df.is_sarcastic.apply(num_to_bool).value_counts()\n",
    "\n",
    "plt.figure(figsize=(9, 6))\n",
    "counts.plot(kind='bar', fontsize=14)\n",
    "plt.title('Counts of Serious and Sarcastic Articles', fontsize=18)\n",
    "plt.ylabel('Count', fontsize=18)\n",
    "plt.xlabel(\"Is_Sarcastic?\", fontsize=18)\n",
    "plt.show()"
   ]
  },
  {
   "cell_type": "markdown",
   "metadata": {},
   "source": [
    "### Adding a column for headline length. Can length help detect sarcasm?"
   ]
  },
  {
   "cell_type": "code",
   "execution_count": 8,
   "metadata": {},
   "outputs": [
    {
     "data": {
      "text/html": [
       "<div>\n",
       "<style scoped>\n",
       "    .dataframe tbody tr th:only-of-type {\n",
       "        vertical-align: middle;\n",
       "    }\n",
       "\n",
       "    .dataframe tbody tr th {\n",
       "        vertical-align: top;\n",
       "    }\n",
       "\n",
       "    .dataframe thead th {\n",
       "        text-align: right;\n",
       "    }\n",
       "</style>\n",
       "<table border=\"1\" class=\"dataframe\">\n",
       "  <thead>\n",
       "    <tr style=\"text-align: right;\">\n",
       "      <th></th>\n",
       "      <th>article_link</th>\n",
       "      <th>is_sarcastic</th>\n",
       "      <th>headline</th>\n",
       "      <th>headline_length</th>\n",
       "    </tr>\n",
       "  </thead>\n",
       "  <tbody>\n",
       "    <tr>\n",
       "      <td>0</td>\n",
       "      <td>https://www.theonion.com/thirtysomething-scientists-unveil-doomsday-clock-of-hai-1819586205</td>\n",
       "      <td>1</td>\n",
       "      <td>thirtysomething scientists unveil doomsday clock of hair loss</td>\n",
       "      <td>8</td>\n",
       "    </tr>\n",
       "    <tr>\n",
       "      <td>1</td>\n",
       "      <td>https://www.huffingtonpost.com/entry/donna-edwards-inequality_us_57455f7fe4b055bb1170b207</td>\n",
       "      <td>0</td>\n",
       "      <td>dem rep. totally nails why congress is falling short on gender, racial equality</td>\n",
       "      <td>13</td>\n",
       "    </tr>\n",
       "    <tr>\n",
       "      <td>2</td>\n",
       "      <td>https://www.huffingtonpost.com/entry/eat-your-veggies-9-delici_b_8899742.html</td>\n",
       "      <td>0</td>\n",
       "      <td>eat your veggies: 9 deliciously different recipes</td>\n",
       "      <td>7</td>\n",
       "    </tr>\n",
       "    <tr>\n",
       "      <td>3</td>\n",
       "      <td>https://local.theonion.com/inclement-weather-prevents-liar-from-getting-to-work-1819576031</td>\n",
       "      <td>1</td>\n",
       "      <td>inclement weather prevents liar from getting to work</td>\n",
       "      <td>8</td>\n",
       "    </tr>\n",
       "    <tr>\n",
       "      <td>4</td>\n",
       "      <td>https://www.theonion.com/mother-comes-pretty-close-to-using-word-streaming-cor-1819575546</td>\n",
       "      <td>1</td>\n",
       "      <td>mother comes pretty close to using word 'streaming' correctly</td>\n",
       "      <td>9</td>\n",
       "    </tr>\n",
       "    <tr>\n",
       "      <td>...</td>\n",
       "      <td>...</td>\n",
       "      <td>...</td>\n",
       "      <td>...</td>\n",
       "      <td>...</td>\n",
       "    </tr>\n",
       "    <tr>\n",
       "      <td>28614</td>\n",
       "      <td>https://www.theonion.com/jews-to-celebrate-rosh-hashasha-or-something-1819564013</td>\n",
       "      <td>1</td>\n",
       "      <td>jews to celebrate rosh hashasha or something</td>\n",
       "      <td>7</td>\n",
       "    </tr>\n",
       "    <tr>\n",
       "      <td>28615</td>\n",
       "      <td>https://local.theonion.com/internal-affairs-investigator-disappointed-conspiracy-d-1819568967</td>\n",
       "      <td>1</td>\n",
       "      <td>internal affairs investigator disappointed conspiracy doesn't go all the way to the top</td>\n",
       "      <td>13</td>\n",
       "    </tr>\n",
       "    <tr>\n",
       "      <td>28616</td>\n",
       "      <td>https://www.huffingtonpost.com/entry/andrew-ahn-independent-spirit-awards_us_58b44741e4b060480e0a2c30</td>\n",
       "      <td>0</td>\n",
       "      <td>the most beautiful acceptance speech this week came from a queer korean</td>\n",
       "      <td>12</td>\n",
       "    </tr>\n",
       "    <tr>\n",
       "      <td>28617</td>\n",
       "      <td>https://www.theonion.com/mars-probe-destroyed-by-orbiting-spielberg-gates-space-1819564363</td>\n",
       "      <td>1</td>\n",
       "      <td>mars probe destroyed by orbiting spielberg-gates space palace</td>\n",
       "      <td>8</td>\n",
       "    </tr>\n",
       "    <tr>\n",
       "      <td>28618</td>\n",
       "      <td>https://www.theonion.com/dad-clarifies-this-not-a-food-stop-1819576557</td>\n",
       "      <td>1</td>\n",
       "      <td>dad clarifies this not a food stop</td>\n",
       "      <td>7</td>\n",
       "    </tr>\n",
       "  </tbody>\n",
       "</table>\n",
       "<p>28619 rows × 4 columns</p>\n",
       "</div>"
      ],
      "text/plain": [
       "                                                                                                article_link  \\\n",
       "0      https://www.theonion.com/thirtysomething-scientists-unveil-doomsday-clock-of-hai-1819586205             \n",
       "1      https://www.huffingtonpost.com/entry/donna-edwards-inequality_us_57455f7fe4b055bb1170b207               \n",
       "2      https://www.huffingtonpost.com/entry/eat-your-veggies-9-delici_b_8899742.html                           \n",
       "3      https://local.theonion.com/inclement-weather-prevents-liar-from-getting-to-work-1819576031              \n",
       "4      https://www.theonion.com/mother-comes-pretty-close-to-using-word-streaming-cor-1819575546               \n",
       "...                                                                                          ...               \n",
       "28614  https://www.theonion.com/jews-to-celebrate-rosh-hashasha-or-something-1819564013                        \n",
       "28615  https://local.theonion.com/internal-affairs-investigator-disappointed-conspiracy-d-1819568967           \n",
       "28616  https://www.huffingtonpost.com/entry/andrew-ahn-independent-spirit-awards_us_58b44741e4b060480e0a2c30   \n",
       "28617  https://www.theonion.com/mars-probe-destroyed-by-orbiting-spielberg-gates-space-1819564363              \n",
       "28618  https://www.theonion.com/dad-clarifies-this-not-a-food-stop-1819576557                                  \n",
       "\n",
       "       is_sarcastic  \\\n",
       "0      1              \n",
       "1      0              \n",
       "2      0              \n",
       "3      1              \n",
       "4      1              \n",
       "...   ..              \n",
       "28614  1              \n",
       "28615  1              \n",
       "28616  0              \n",
       "28617  1              \n",
       "28618  1              \n",
       "\n",
       "                                                                                      headline  \\\n",
       "0      thirtysomething scientists unveil doomsday clock of hair loss                             \n",
       "1      dem rep. totally nails why congress is falling short on gender, racial equality           \n",
       "2      eat your veggies: 9 deliciously different recipes                                         \n",
       "3      inclement weather prevents liar from getting to work                                      \n",
       "4      mother comes pretty close to using word 'streaming' correctly                             \n",
       "...                                                              ...                             \n",
       "28614  jews to celebrate rosh hashasha or something                                              \n",
       "28615  internal affairs investigator disappointed conspiracy doesn't go all the way to the top   \n",
       "28616  the most beautiful acceptance speech this week came from a queer korean                   \n",
       "28617  mars probe destroyed by orbiting spielberg-gates space palace                             \n",
       "28618  dad clarifies this not a food stop                                                        \n",
       "\n",
       "       headline_length  \n",
       "0      8                \n",
       "1      13               \n",
       "2      7                \n",
       "3      8                \n",
       "4      9                \n",
       "...   ..                \n",
       "28614  7                \n",
       "28615  13               \n",
       "28616  12               \n",
       "28617  8                \n",
       "28618  7                \n",
       "\n",
       "[28619 rows x 4 columns]"
      ]
     },
     "execution_count": 8,
     "metadata": {},
     "output_type": "execute_result"
    }
   ],
   "source": [
    "df['headline_length'] = df.headline.apply(lambda x: len(x.split(\" \")))\n",
    "df"
   ]
  },
  {
   "cell_type": "markdown",
   "metadata": {},
   "source": [
    "### The distributions of headline length seem to be very similar..."
   ]
  },
  {
   "cell_type": "code",
   "execution_count": 9,
   "metadata": {},
   "outputs": [
    {
     "data": {
      "text/plain": [
       "<matplotlib.axes._subplots.AxesSubplot at 0x208ce1a7240>"
      ]
     },
     "execution_count": 9,
     "metadata": {},
     "output_type": "execute_result"
    },
    {
     "data": {
      "image/png": "[encoded data removed]",
      "text/plain": [
       "<matplotlib.figure.Figure at 0x208ce1a7400>"
      ]
     },
     "metadata": {
      "needs_background": "light"
     },
     "output_type": "display_data"
    }
   ],
   "source": [
    "sns.boxplot(x='is_sarcastic', y='headline_length', data=df, palette='rainbow')"
   ]
  },
  {
   "cell_type": "markdown",
   "metadata": {},
   "source": [
    "### ... except for one comically long headline from the Onion."
   ]
  },
  {
   "cell_type": "code",
   "execution_count": 10,
   "metadata": {},
   "outputs": [
    {
     "data": {
      "text/plain": [
       "'hot wheels ranked number one toy for rolling down ramp, knocking over dominoes that send marble down a funnel, dropping onto teeter-totter that yanks on string, causing pulley system to raise wooden block, propelling series of twine rollers that unwind spring, launching tennis ball across room, inching tire down slope until it hits power switch, activating table fan that blows toy ship with nail attached to it across kiddie pool, popping water balloon that fills cup, weighing down lever that forces basketball down track, nudging broomstick on axis to rotate, allowing golf ball to roll into sideways coffee mug, which tumbles down row of hardcover books until handle catches hook attached to lever that causes wooden mallet to slam down on serving spoon, catapulting small ball into cup attached by ribbon to lazy susan, which spins until it pushes d battery down incline plane, tipping over salt shaker to season omelet'"
      ]
     },
     "execution_count": 10,
     "metadata": {},
     "output_type": "execute_result"
    }
   ],
   "source": [
    "df[df.headline_length == df.headline_length.max()].headline.tolist()[0]"
   ]
  },
  {
   "cell_type": "markdown",
   "metadata": {},
   "source": [
    "#### Here's the shortest headline:"
   ]
  },
  {
   "cell_type": "code",
   "execution_count": 11,
   "metadata": {},
   "outputs": [
    {
     "data": {
      "text/plain": [
       "\"trump's tailspin\""
      ]
     },
     "execution_count": 11,
     "metadata": {},
     "output_type": "execute_result"
    }
   ],
   "source": [
    "df[df.headline_length == df.headline_length.min()].headline.tolist()[0]"
   ]
  },
  {
   "cell_type": "markdown",
   "metadata": {},
   "source": [
    "#### The correlation between headline length and sarcasm is so weak that it's negligible ( r = .072). So I won't be using length in my model."
   ]
  },
  {
   "cell_type": "code",
   "execution_count": 12,
   "metadata": {},
   "outputs": [
    {
     "data": {
      "text/plain": [
       "<matplotlib.axes._subplots.AxesSubplot at 0x208ce005550>"
      ]
     },
     "execution_count": 12,
     "metadata": {},
     "output_type": "execute_result"
    },
    {
     "data": {
      "image/png": "[encoded data removed]",
      "text/plain": [
       "<matplotlib.figure.Figure at 0x208c7a4e128>"
      ]
     },
     "metadata": {
      "needs_background": "light"
     },
     "output_type": "display_data"
    }
   ],
   "source": [
    "#changing data types to integers\n",
    "df.is_sarcastic = df.is_sarcastic.astype(int)\n",
    "df.headline_length = df.headline_length.astype(int)\n",
    "\n",
    "#generating heatmap\n",
    "sns.heatmap(df.corr(), cmap='coolwarm', annot=True)"
   ]
  },
  {
   "cell_type": "markdown",
   "metadata": {},
   "source": [
    "## Preparing headline text"
   ]
  },
  {
   "cell_type": "code",
   "execution_count": 13,
   "metadata": {},
   "outputs": [
    {
     "data": {
      "text/html": [
       "<div>\n",
       "<style scoped>\n",
       "    .dataframe tbody tr th:only-of-type {\n",
       "        vertical-align: middle;\n",
       "    }\n",
       "\n",
       "    .dataframe tbody tr th {\n",
       "        vertical-align: top;\n",
       "    }\n",
       "\n",
       "    .dataframe thead th {\n",
       "        text-align: right;\n",
       "    }\n",
       "</style>\n",
       "<table border=\"1\" class=\"dataframe\">\n",
       "  <thead>\n",
       "    <tr style=\"text-align: right;\">\n",
       "      <th></th>\n",
       "      <th>headline</th>\n",
       "      <th>headline_v2</th>\n",
       "    </tr>\n",
       "  </thead>\n",
       "  <tbody>\n",
       "    <tr>\n",
       "      <td>0</td>\n",
       "      <td>thirtysomething scientists unveil doomsday clock of hair loss</td>\n",
       "      <td>thirtysomething scientists unveil doomsday clock of hair loss</td>\n",
       "    </tr>\n",
       "    <tr>\n",
       "      <td>1</td>\n",
       "      <td>dem rep. totally nails why congress is falling short on gender, racial equality</td>\n",
       "      <td>dem rep. totally nails why congress is falling short on gender, racial equality</td>\n",
       "    </tr>\n",
       "    <tr>\n",
       "      <td>2</td>\n",
       "      <td>eat your veggies: 9 deliciously different recipes</td>\n",
       "      <td>eat your veggies: 9 deliciously different recipes</td>\n",
       "    </tr>\n",
       "    <tr>\n",
       "      <td>3</td>\n",
       "      <td>inclement weather prevents liar from getting to work</td>\n",
       "      <td>inclement weather prevents liar from getting to work</td>\n",
       "    </tr>\n",
       "    <tr>\n",
       "      <td>4</td>\n",
       "      <td>mother comes pretty close to using word 'streaming' correctly</td>\n",
       "      <td>mother comes pretty close to using word 'streaming' correctly</td>\n",
       "    </tr>\n",
       "  </tbody>\n",
       "</table>\n",
       "</div>"
      ],
      "text/plain": [
       "                                                                          headline  \\\n",
       "0  thirtysomething scientists unveil doomsday clock of hair loss                     \n",
       "1  dem rep. totally nails why congress is falling short on gender, racial equality   \n",
       "2  eat your veggies: 9 deliciously different recipes                                 \n",
       "3  inclement weather prevents liar from getting to work                              \n",
       "4  mother comes pretty close to using word 'streaming' correctly                     \n",
       "\n",
       "                                                                       headline_v2  \n",
       "0  thirtysomething scientists unveil doomsday clock of hair loss                    \n",
       "1  dem rep. totally nails why congress is falling short on gender, racial equality  \n",
       "2  eat your veggies: 9 deliciously different recipes                                \n",
       "3  inclement weather prevents liar from getting to work                             \n",
       "4  mother comes pretty close to using word 'streaming' correctly                    "
      ]
     },
     "execution_count": 13,
     "metadata": {},
     "output_type": "execute_result"
    }
   ],
   "source": [
    "#make lowercase\n",
    "#the headlines seem to be lowercase already, but I'll do this step just in case.\n",
    "df['headline_v2'] = df['headline'].apply(lambda x: \" \".join(x.lower() for x in x.split()))\n",
    "df[['headline', 'headline_v2']].head()"
   ]
  },
  {
   "cell_type": "code",
   "execution_count": 14,
   "metadata": {},
   "outputs": [
    {
     "data": {
      "text/html": [
       "<div>\n",
       "<style scoped>\n",
       "    .dataframe tbody tr th:only-of-type {\n",
       "        vertical-align: middle;\n",
       "    }\n",
       "\n",
       "    .dataframe tbody tr th {\n",
       "        vertical-align: top;\n",
       "    }\n",
       "\n",
       "    .dataframe thead th {\n",
       "        text-align: right;\n",
       "    }\n",
       "</style>\n",
       "<table border=\"1\" class=\"dataframe\">\n",
       "  <thead>\n",
       "    <tr style=\"text-align: right;\">\n",
       "      <th></th>\n",
       "      <th>headline_v2</th>\n",
       "      <th>headline_v3</th>\n",
       "    </tr>\n",
       "  </thead>\n",
       "  <tbody>\n",
       "    <tr>\n",
       "      <td>0</td>\n",
       "      <td>thirtysomething scientists unveil doomsday clock of hair loss</td>\n",
       "      <td>thirtysomething scientists unveil doomsday clock of hair loss</td>\n",
       "    </tr>\n",
       "    <tr>\n",
       "      <td>1</td>\n",
       "      <td>dem rep. totally nails why congress is falling short on gender, racial equality</td>\n",
       "      <td>dem rep totally nails why congress is falling short on gender racial equality</td>\n",
       "    </tr>\n",
       "    <tr>\n",
       "      <td>2</td>\n",
       "      <td>eat your veggies: 9 deliciously different recipes</td>\n",
       "      <td>eat your veggies 9 deliciously different recipes</td>\n",
       "    </tr>\n",
       "    <tr>\n",
       "      <td>3</td>\n",
       "      <td>inclement weather prevents liar from getting to work</td>\n",
       "      <td>inclement weather prevents liar from getting to work</td>\n",
       "    </tr>\n",
       "    <tr>\n",
       "      <td>4</td>\n",
       "      <td>mother comes pretty close to using word 'streaming' correctly</td>\n",
       "      <td>mother comes pretty close to using word streaming correctly</td>\n",
       "    </tr>\n",
       "  </tbody>\n",
       "</table>\n",
       "</div>"
      ],
      "text/plain": [
       "                                                                       headline_v2  \\\n",
       "0  thirtysomething scientists unveil doomsday clock of hair loss                     \n",
       "1  dem rep. totally nails why congress is falling short on gender, racial equality   \n",
       "2  eat your veggies: 9 deliciously different recipes                                 \n",
       "3  inclement weather prevents liar from getting to work                              \n",
       "4  mother comes pretty close to using word 'streaming' correctly                     \n",
       "\n",
       "                                                                     headline_v3  \n",
       "0  thirtysomething scientists unveil doomsday clock of hair loss                  \n",
       "1  dem rep totally nails why congress is falling short on gender racial equality  \n",
       "2  eat your veggies 9 deliciously different recipes                               \n",
       "3  inclement weather prevents liar from getting to work                           \n",
       "4  mother comes pretty close to using word streaming correctly                    "
      ]
     },
     "execution_count": 14,
     "metadata": {},
     "output_type": "execute_result"
    }
   ],
   "source": [
    "#remove punctuation\n",
    "df['headline_v3'] = df.headline_v2.str.replace('[^\\w\\s]','')\n",
    "df[['headline_v2', 'headline_v3']].head()"
   ]
  },
  {
   "cell_type": "code",
   "execution_count": 15,
   "metadata": {},
   "outputs": [
    {
     "data": {
      "text/html": [
       "<div>\n",
       "<style scoped>\n",
       "    .dataframe tbody tr th:only-of-type {\n",
       "        vertical-align: middle;\n",
       "    }\n",
       "\n",
       "    .dataframe tbody tr th {\n",
       "        vertical-align: top;\n",
       "    }\n",
       "\n",
       "    .dataframe thead th {\n",
       "        text-align: right;\n",
       "    }\n",
       "</style>\n",
       "<table border=\"1\" class=\"dataframe\">\n",
       "  <thead>\n",
       "    <tr style=\"text-align: right;\">\n",
       "      <th></th>\n",
       "      <th>headline_v3</th>\n",
       "      <th>headline_v4</th>\n",
       "    </tr>\n",
       "  </thead>\n",
       "  <tbody>\n",
       "    <tr>\n",
       "      <td>0</td>\n",
       "      <td>thirtysomething scientists unveil doomsday clock of hair loss</td>\n",
       "      <td>thirtysomething scientists unveil doomsday clock hair loss</td>\n",
       "    </tr>\n",
       "    <tr>\n",
       "      <td>1</td>\n",
       "      <td>dem rep totally nails why congress is falling short on gender racial equality</td>\n",
       "      <td>dem rep totally nails congress falling short gender racial equality</td>\n",
       "    </tr>\n",
       "    <tr>\n",
       "      <td>2</td>\n",
       "      <td>eat your veggies 9 deliciously different recipes</td>\n",
       "      <td>eat veggies 9 deliciously different recipes</td>\n",
       "    </tr>\n",
       "    <tr>\n",
       "      <td>3</td>\n",
       "      <td>inclement weather prevents liar from getting to work</td>\n",
       "      <td>inclement weather prevents liar getting work</td>\n",
       "    </tr>\n",
       "    <tr>\n",
       "      <td>4</td>\n",
       "      <td>mother comes pretty close to using word streaming correctly</td>\n",
       "      <td>mother comes pretty close using word streaming correctly</td>\n",
       "    </tr>\n",
       "  </tbody>\n",
       "</table>\n",
       "</div>"
      ],
      "text/plain": [
       "                                                                     headline_v3  \\\n",
       "0  thirtysomething scientists unveil doomsday clock of hair loss                   \n",
       "1  dem rep totally nails why congress is falling short on gender racial equality   \n",
       "2  eat your veggies 9 deliciously different recipes                                \n",
       "3  inclement weather prevents liar from getting to work                            \n",
       "4  mother comes pretty close to using word streaming correctly                     \n",
       "\n",
       "                                                           headline_v4  \n",
       "0  thirtysomething scientists unveil doomsday clock hair loss           \n",
       "1  dem rep totally nails congress falling short gender racial equality  \n",
       "2  eat veggies 9 deliciously different recipes                          \n",
       "3  inclement weather prevents liar getting work                         \n",
       "4  mother comes pretty close using word streaming correctly             "
      ]
     },
     "execution_count": 15,
     "metadata": {},
     "output_type": "execute_result"
    }
   ],
   "source": [
    "#remove stopwords\n",
    "import nltk\n",
    "from nltk.corpus import stopwords\n",
    "stop = stopwords.words('english')\n",
    "\n",
    "df['headline_v4'] = df.headline_v3.apply(lambda x: \" \".join(x for x in x.split() if x not in stop))\n",
    "df[['headline_v3', 'headline_v4']].head()"
   ]
  },
  {
   "cell_type": "code",
   "execution_count": 16,
   "metadata": {},
   "outputs": [
    {
     "data": {
      "text/plain": [
       "new       1677\n",
       "trump     1389\n",
       "man       1373\n",
       "report    605 \n",
       "us        601 \n",
       "one       555 \n",
       "woman     505 \n",
       "area      494 \n",
       "says      485 \n",
       "donald    475 \n",
       "dtype: int64"
      ]
     },
     "execution_count": 16,
     "metadata": {},
     "output_type": "execute_result"
    }
   ],
   "source": [
    "#view words most common to this dataset. deciding to keep because most seem like they correlate with sentiment.\n",
    "freq = pd.Series(' '.join(df['headline_v4']).split()).value_counts()[:10]\n",
    "freq"
   ]
  },
  {
   "cell_type": "code",
   "execution_count": 17,
   "metadata": {},
   "outputs": [
    {
     "data": {
      "image/png": "[encoded data removed]",
      "text/plain": [
       "<matplotlib.figure.Figure at 0x208ce7ec6d8>"
      ]
     },
     "metadata": {
      "needs_background": "light"
     },
     "output_type": "display_data"
    }
   ],
   "source": [
    "plt.figure(figsize=(9, 6))\n",
    "freq.plot(kind='bar', fontsize=14)\n",
    "plt.title('Counts of Most Common Words', fontsize=18)\n",
    "plt.ylabel('Count', fontsize=18)\n",
    "plt.xlabel(\"Word\", fontsize=18)\n",
    "plt.show()"
   ]
  },
  {
   "cell_type": "code",
   "execution_count": 18,
   "metadata": {},
   "outputs": [
    {
     "data": {
      "text/html": [
       "<div>\n",
       "<style scoped>\n",
       "    .dataframe tbody tr th:only-of-type {\n",
       "        vertical-align: middle;\n",
       "    }\n",
       "\n",
       "    .dataframe tbody tr th {\n",
       "        vertical-align: top;\n",
       "    }\n",
       "\n",
       "    .dataframe thead th {\n",
       "        text-align: right;\n",
       "    }\n",
       "</style>\n",
       "<table border=\"1\" class=\"dataframe\">\n",
       "  <thead>\n",
       "    <tr style=\"text-align: right;\">\n",
       "      <th></th>\n",
       "      <th>headline_v4</th>\n",
       "      <th>headline_v5</th>\n",
       "    </tr>\n",
       "  </thead>\n",
       "  <tbody>\n",
       "    <tr>\n",
       "      <td>6</td>\n",
       "      <td>5 ways file taxes less stress</td>\n",
       "      <td>5 way file tax le stress</td>\n",
       "    </tr>\n",
       "  </tbody>\n",
       "</table>\n",
       "</div>"
      ],
      "text/plain": [
       "                     headline_v4               headline_v5\n",
       "6  5 ways file taxes less stress  5 way file tax le stress"
      ]
     },
     "execution_count": 18,
     "metadata": {},
     "output_type": "execute_result"
    }
   ],
   "source": [
    "#lemmatize\n",
    "\n",
    "from textblob import Word\n",
    "df['headline_v5'] = df.headline_v4.apply(lambda x: \" \".join([Word(word).lemmatize() for word in x.split()]))\n",
    "df[['headline_v4', 'headline_v5']][6:7]"
   ]
  },
  {
   "cell_type": "code",
   "execution_count": 19,
   "metadata": {},
   "outputs": [
    {
     "data": {
      "text/html": [
       "<div>\n",
       "<style scoped>\n",
       "    .dataframe tbody tr th:only-of-type {\n",
       "        vertical-align: middle;\n",
       "    }\n",
       "\n",
       "    .dataframe tbody tr th {\n",
       "        vertical-align: top;\n",
       "    }\n",
       "\n",
       "    .dataframe thead th {\n",
       "        text-align: right;\n",
       "    }\n",
       "</style>\n",
       "<table border=\"1\" class=\"dataframe\">\n",
       "  <thead>\n",
       "    <tr style=\"text-align: right;\">\n",
       "      <th></th>\n",
       "      <th>headline</th>\n",
       "      <th>headline_v5</th>\n",
       "    </tr>\n",
       "  </thead>\n",
       "  <tbody>\n",
       "    <tr>\n",
       "      <td>0</td>\n",
       "      <td>thirtysomething scientists unveil doomsday clock of hair loss</td>\n",
       "      <td>thirtysomething scientist unveil doomsday clock hair loss</td>\n",
       "    </tr>\n",
       "    <tr>\n",
       "      <td>1</td>\n",
       "      <td>dem rep. totally nails why congress is falling short on gender, racial equality</td>\n",
       "      <td>dem rep totally nail congress falling short gender racial equality</td>\n",
       "    </tr>\n",
       "    <tr>\n",
       "      <td>2</td>\n",
       "      <td>eat your veggies: 9 deliciously different recipes</td>\n",
       "      <td>eat veggie 9 deliciously different recipe</td>\n",
       "    </tr>\n",
       "    <tr>\n",
       "      <td>3</td>\n",
       "      <td>inclement weather prevents liar from getting to work</td>\n",
       "      <td>inclement weather prevents liar getting work</td>\n",
       "    </tr>\n",
       "    <tr>\n",
       "      <td>4</td>\n",
       "      <td>mother comes pretty close to using word 'streaming' correctly</td>\n",
       "      <td>mother come pretty close using word streaming correctly</td>\n",
       "    </tr>\n",
       "  </tbody>\n",
       "</table>\n",
       "</div>"
      ],
      "text/plain": [
       "                                                                          headline  \\\n",
       "0  thirtysomething scientists unveil doomsday clock of hair loss                     \n",
       "1  dem rep. totally nails why congress is falling short on gender, racial equality   \n",
       "2  eat your veggies: 9 deliciously different recipes                                 \n",
       "3  inclement weather prevents liar from getting to work                              \n",
       "4  mother comes pretty close to using word 'streaming' correctly                     \n",
       "\n",
       "                                                          headline_v5  \n",
       "0  thirtysomething scientist unveil doomsday clock hair loss           \n",
       "1  dem rep totally nail congress falling short gender racial equality  \n",
       "2  eat veggie 9 deliciously different recipe                           \n",
       "3  inclement weather prevents liar getting work                        \n",
       "4  mother come pretty close using word streaming correctly             "
      ]
     },
     "execution_count": 19,
     "metadata": {},
     "output_type": "execute_result"
    }
   ],
   "source": [
    "df[['headline', 'headline_v5']].iloc[0:5]"
   ]
  },
  {
   "cell_type": "markdown",
   "metadata": {},
   "source": [
    "## Vectorizing, training the model, and testing its performance."
   ]
  },
  {
   "cell_type": "code",
   "execution_count": 20,
   "metadata": {},
   "outputs": [],
   "source": [
    "X = df.headline_v5\n",
    "y = df.is_sarcastic"
   ]
  },
  {
   "cell_type": "markdown",
   "metadata": {},
   "source": [
    "### Using CountVectorizer to make a sparse matrix"
   ]
  },
  {
   "cell_type": "code",
   "execution_count": 21,
   "metadata": {},
   "outputs": [],
   "source": [
    "from sklearn.feature_extraction.text import CountVectorizer\n",
    "cv = CountVectorizer()\n",
    "X = cv.fit_transform(X)"
   ]
  },
  {
   "cell_type": "markdown",
   "metadata": {},
   "source": [
    "### Training the model on 70% of the headlines, testing it on the remaining 30%."
   ]
  },
  {
   "cell_type": "code",
   "execution_count": 22,
   "metadata": {},
   "outputs": [],
   "source": [
    "from sklearn.model_selection import train_test_split\n",
    "X_train, X_test, y_train, y_test = train_test_split(X, y,test_size=0.3,random_state=101)"
   ]
  },
  {
   "cell_type": "markdown",
   "metadata": {},
   "source": [
    "### Testing with a Naive Bayes classification model"
   ]
  },
  {
   "cell_type": "code",
   "execution_count": 23,
   "metadata": {},
   "outputs": [
    {
     "data": {
      "text/plain": [
       "MultinomialNB(alpha=1.0, class_prior=None, fit_prior=True)"
      ]
     },
     "execution_count": 23,
     "metadata": {},
     "output_type": "execute_result"
    }
   ],
   "source": [
    "from sklearn.naive_bayes import MultinomialNB\n",
    "nb = MultinomialNB()\n",
    "nb.fit(X_train,y_train)"
   ]
  },
  {
   "cell_type": "code",
   "execution_count": 24,
   "metadata": {},
   "outputs": [],
   "source": [
    "predictions = nb.predict(X_test)"
   ]
  },
  {
   "cell_type": "code",
   "execution_count": 25,
   "metadata": {},
   "outputs": [],
   "source": [
    "from sklearn.metrics import confusion_matrix,classification_report"
   ]
  },
  {
   "cell_type": "markdown",
   "metadata": {},
   "source": [
    "### The model is 80% accurate."
   ]
  },
  {
   "cell_type": "code",
   "execution_count": 26,
   "metadata": {},
   "outputs": [
    {
     "name": "stdout",
     "output_type": "stream",
     "text": [
      "[[3699  791]\n",
      " [ 942 3154]]\n",
      "\n",
      "\n",
      "             precision    recall  f1-score   support\n",
      "\n",
      "          0       0.80      0.82      0.81      4490\n",
      "          1       0.80      0.77      0.78      4096\n",
      "\n",
      "avg / total       0.80      0.80      0.80      8586\n",
      "\n"
     ]
    }
   ],
   "source": [
    "print(confusion_matrix(y_test,predictions))\n",
    "print('\\n')\n",
    "print(classification_report(y_test,predictions))"
   ]
  }
 ],
 "metadata": {
  "kernelspec": {
   "display_name": "Python 3",
   "language": "python",
   "name": "python3"
  },
  "language_info": {
   "codemirror_mode": {
    "name": "ipython",
    "version": 3
   },
   "file_extension": ".py",
   "mimetype": "text/x-python",
   "name": "python",
   "nbconvert_exporter": "python",
   "pygments_lexer": "ipython3",
   "version": "3.6.4"
  }
 },
 "nbformat": 4,
 "nbformat_minor": 2
}
